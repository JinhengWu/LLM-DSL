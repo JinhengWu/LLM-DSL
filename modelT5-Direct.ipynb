{
 "cells": [
  {
   "cell_type": "code",
   "execution_count": 1,
   "metadata": {},
   "outputs": [],
   "source": [
    "from transformers import T5Config, T5ForConditionalGeneration, T5Tokenizer, Trainer, TrainingArguments, TrainerCallback\n",
    "from torch.utils.data import Dataset\n",
    "from sklearn.model_selection import train_test_split\n",
    "from nltk.translate.bleu_score import sentence_bleu\n",
    "from rouge import Rouge\n",
    "from Levenshtein import distance as levenshtein_distance\n",
    "import json\n",
    "import os\n",
    "import torch\n",
    "import pandas as pd"
   ]
  },
  {
   "cell_type": "code",
   "execution_count": 5,
   "metadata": {},
   "outputs": [],
   "source": [
    "train_file_path = 'D:\\\\XJTLU\\\\YEAR4\\\\FYP\\\\TrainDirect.csv'\n",
    "data = pd.read_csv(train_file_path)\n",
    "\n",
    "train_val_data, test_data = train_test_split(data, test_size=0.1, random_state=42)\n",
    "train_data, val_data = train_test_split(train_val_data, test_size=0.1111, random_state=42)\n",
    "\n",
    "device = torch.device(\"cuda\")"
   ]
  },
  {
   "cell_type": "code",
   "execution_count": 6,
   "metadata": {},
   "outputs": [],
   "source": [
    "class NLtoDSLDataSet(Dataset):\n",
    "    def __init__(self, tokenizer, data, max_length=128):\n",
    "        self.tokenizer = tokenizer\n",
    "        self.data = data\n",
    "        self.max_length = max_length\n",
    "\n",
    "    def __len__(self):\n",
    "        return len(self.data)\n",
    "\n",
    "    def __getitem__(self, idx):\n",
    "        item = self.data.iloc[idx]\n",
    "        input_text = item['input']\n",
    "        target_text = item['output']\n",
    "        \n",
    "        input_encoding = self.tokenizer(input_text, max_length=self.max_length, padding='max_length', truncation=True, return_tensors='pt')\n",
    "        target_encoding = self.tokenizer(target_text, max_length=self.max_length, padding='max_length', truncation=True, return_tensors='pt')\n",
    "        \n",
    "        inputs = {\n",
    "            'input_ids': input_encoding['input_ids'].flatten(),\n",
    "            'attention_mask': input_encoding['attention_mask'].flatten(),\n",
    "            'labels': target_encoding['input_ids'].flatten()\n",
    "        }\n",
    "        \n",
    "        return inputs"
   ]
  },
  {
   "cell_type": "code",
   "execution_count": 7,
   "metadata": {},
   "outputs": [],
   "source": [
    "tokenizer = T5Tokenizer.from_pretrained('t5-small')\n",
    "model = T5ForConditionalGeneration.from_pretrained('t5-small')\n",
    "\n",
    "train_dataset = NLtoDSLDataSet(tokenizer, train_data)\n",
    "val_dataset = NLtoDSLDataSet(tokenizer, val_data)"
   ]
  },
  {
   "cell_type": "code",
   "execution_count": 8,
   "metadata": {},
   "outputs": [
    {
     "name": "stderr",
     "output_type": "stream",
     "text": [
      "d:\\Anaconda3\\lib\\site-packages\\accelerate\\accelerator.py:432: FutureWarning: Passing the following arguments to `Accelerator` is deprecated and will be removed in version 1.0 of Accelerate: dict_keys(['dispatch_batches']). Please pass an `accelerate.DataLoaderConfiguration` instead: \n",
      "dataloader_config = DataLoaderConfiguration(dispatch_batches=None)\n",
      "  warnings.warn(\n"
     ]
    },
    {
     "data": {
      "application/vnd.jupyter.widget-view+json": {
       "model_id": "8bfe9c0982204fdba20f5f934fdd5732",
       "version_major": 2,
       "version_minor": 0
      },
      "text/plain": [
       "  0%|          | 0/750 [00:00<?, ?it/s]"
      ]
     },
     "metadata": {},
     "output_type": "display_data"
    },
    {
     "name": "stdout",
     "output_type": "stream",
     "text": [
      "{'loss': 9.2717, 'learning_rate': 1.0000000000000002e-06, 'epoch': 0.04}\n",
      "{'loss': 9.127, 'learning_rate': 2.0000000000000003e-06, 'epoch': 0.08}\n",
      "{'loss': 8.6384, 'learning_rate': 3e-06, 'epoch': 0.12}\n",
      "{'loss': 8.8759, 'learning_rate': 4.000000000000001e-06, 'epoch': 0.16}\n",
      "{'loss': 8.4959, 'learning_rate': 5e-06, 'epoch': 0.2}\n",
      "{'loss': 7.8521, 'learning_rate': 6e-06, 'epoch': 0.24}\n",
      "{'loss': 7.3523, 'learning_rate': 7.000000000000001e-06, 'epoch': 0.28}\n",
      "{'loss': 7.1268, 'learning_rate': 8.000000000000001e-06, 'epoch': 0.32}\n",
      "{'loss': 6.5314, 'learning_rate': 9e-06, 'epoch': 0.36}\n",
      "{'loss': 6.0294, 'learning_rate': 1e-05, 'epoch': 0.4}\n",
      "{'loss': 5.2557, 'learning_rate': 1.1000000000000001e-05, 'epoch': 0.44}\n",
      "{'loss': 4.7159, 'learning_rate': 1.2e-05, 'epoch': 0.48}\n",
      "{'loss': 4.1254, 'learning_rate': 1.3000000000000001e-05, 'epoch': 0.52}\n",
      "{'loss': 3.4779, 'learning_rate': 1.4000000000000001e-05, 'epoch': 0.56}\n",
      "{'loss': 3.2558, 'learning_rate': 1.5e-05, 'epoch': 0.6}\n",
      "{'loss': 2.688, 'learning_rate': 1.6000000000000003e-05, 'epoch': 0.64}\n",
      "{'loss': 2.4233, 'learning_rate': 1.7000000000000003e-05, 'epoch': 0.68}\n",
      "{'loss': 2.0954, 'learning_rate': 1.8e-05, 'epoch': 0.72}\n",
      "{'loss': 1.8383, 'learning_rate': 1.9e-05, 'epoch': 0.76}\n",
      "{'loss': 1.5815, 'learning_rate': 2e-05, 'epoch': 0.8}\n",
      "{'loss': 1.3141, 'learning_rate': 2.1e-05, 'epoch': 0.84}\n",
      "{'loss': 1.0993, 'learning_rate': 2.2000000000000003e-05, 'epoch': 0.88}\n",
      "{'loss': 0.9055, 'learning_rate': 2.3000000000000003e-05, 'epoch': 0.92}\n",
      "{'loss': 0.75, 'learning_rate': 2.4e-05, 'epoch': 0.96}\n",
      "{'loss': 0.6205, 'learning_rate': 2.5e-05, 'epoch': 1.0}\n",
      "{'loss': 0.529, 'learning_rate': 2.6000000000000002e-05, 'epoch': 1.04}\n",
      "{'loss': 0.4438, 'learning_rate': 2.7000000000000002e-05, 'epoch': 1.08}\n",
      "{'loss': 0.3878, 'learning_rate': 2.8000000000000003e-05, 'epoch': 1.12}\n",
      "{'loss': 0.3249, 'learning_rate': 2.9e-05, 'epoch': 1.16}\n",
      "{'loss': 0.2821, 'learning_rate': 3e-05, 'epoch': 1.2}\n",
      "{'loss': 0.244, 'learning_rate': 3.1e-05, 'epoch': 1.24}\n",
      "{'loss': 0.2, 'learning_rate': 3.2000000000000005e-05, 'epoch': 1.28}\n",
      "{'loss': 0.1757, 'learning_rate': 3.3e-05, 'epoch': 1.32}\n",
      "{'loss': 0.1519, 'learning_rate': 3.4000000000000007e-05, 'epoch': 1.36}\n",
      "{'loss': 0.1323, 'learning_rate': 3.5e-05, 'epoch': 1.4}\n",
      "{'loss': 0.1123, 'learning_rate': 3.6e-05, 'epoch': 1.44}\n",
      "{'loss': 0.0987, 'learning_rate': 3.7e-05, 'epoch': 1.48}\n",
      "{'loss': 0.083, 'learning_rate': 3.8e-05, 'epoch': 1.52}\n",
      "{'loss': 0.0791, 'learning_rate': 3.9000000000000006e-05, 'epoch': 1.56}\n",
      "{'loss': 0.0672, 'learning_rate': 4e-05, 'epoch': 1.6}\n",
      "{'loss': 0.0592, 'learning_rate': 4.1e-05, 'epoch': 1.64}\n",
      "{'loss': 0.0517, 'learning_rate': 4.2e-05, 'epoch': 1.68}\n",
      "{'loss': 0.0444, 'learning_rate': 4.3e-05, 'epoch': 1.72}\n",
      "{'loss': 0.0403, 'learning_rate': 4.4000000000000006e-05, 'epoch': 1.76}\n",
      "{'loss': 0.0386, 'learning_rate': 4.5e-05, 'epoch': 1.8}\n",
      "{'loss': 0.0359, 'learning_rate': 4.600000000000001e-05, 'epoch': 1.84}\n",
      "{'loss': 0.0324, 'learning_rate': 4.7e-05, 'epoch': 1.88}\n",
      "{'loss': 0.0297, 'learning_rate': 4.8e-05, 'epoch': 1.92}\n",
      "{'loss': 0.0266, 'learning_rate': 4.9e-05, 'epoch': 1.96}\n",
      "{'loss': 0.0268, 'learning_rate': 5e-05, 'epoch': 2.0}\n",
      "{'loss': 0.024, 'learning_rate': 4.8e-05, 'epoch': 2.04}\n",
      "{'loss': 0.0231, 'learning_rate': 4.600000000000001e-05, 'epoch': 2.08}\n",
      "{'loss': 0.0212, 'learning_rate': 4.4000000000000006e-05, 'epoch': 2.12}\n",
      "{'loss': 0.0211, 'learning_rate': 4.2e-05, 'epoch': 2.16}\n",
      "{'loss': 0.0194, 'learning_rate': 4e-05, 'epoch': 2.2}\n",
      "{'loss': 0.0199, 'learning_rate': 3.8e-05, 'epoch': 2.24}\n",
      "{'loss': 0.0173, 'learning_rate': 3.6e-05, 'epoch': 2.28}\n",
      "{'loss': 0.0177, 'learning_rate': 3.4000000000000007e-05, 'epoch': 2.32}\n",
      "{'loss': 0.0167, 'learning_rate': 3.2000000000000005e-05, 'epoch': 2.36}\n",
      "{'loss': 0.0147, 'learning_rate': 3e-05, 'epoch': 2.4}\n",
      "{'loss': 0.0156, 'learning_rate': 2.8000000000000003e-05, 'epoch': 2.44}\n",
      "{'loss': 0.0141, 'learning_rate': 2.6000000000000002e-05, 'epoch': 2.48}\n",
      "{'loss': 0.0144, 'learning_rate': 2.4e-05, 'epoch': 2.52}\n",
      "{'loss': 0.0138, 'learning_rate': 2.2000000000000003e-05, 'epoch': 2.56}\n",
      "{'loss': 0.0148, 'learning_rate': 2e-05, 'epoch': 2.6}\n",
      "{'loss': 0.0132, 'learning_rate': 1.8e-05, 'epoch': 2.64}\n",
      "{'loss': 0.0141, 'learning_rate': 1.6000000000000003e-05, 'epoch': 2.68}\n",
      "{'loss': 0.0132, 'learning_rate': 1.4000000000000001e-05, 'epoch': 2.72}\n",
      "{'loss': 0.0135, 'learning_rate': 1.2e-05, 'epoch': 2.76}\n",
      "{'loss': 0.0135, 'learning_rate': 1e-05, 'epoch': 2.8}\n",
      "{'loss': 0.0117, 'learning_rate': 8.000000000000001e-06, 'epoch': 2.84}\n",
      "{'loss': 0.014, 'learning_rate': 6e-06, 'epoch': 2.88}\n",
      "{'loss': 0.0125, 'learning_rate': 4.000000000000001e-06, 'epoch': 2.92}\n",
      "{'loss': 0.0126, 'learning_rate': 2.0000000000000003e-06, 'epoch': 2.96}\n",
      "{'loss': 0.0136, 'learning_rate': 0.0, 'epoch': 3.0}\n",
      "{'train_runtime': 698.7311, 'train_samples_per_second': 17.174, 'train_steps_per_second': 1.073, 'train_loss': 1.5939265880187352, 'epoch': 3.0}\n",
      "Final evaluation on validation set.\n"
     ]
    },
    {
     "data": {
      "application/vnd.jupyter.widget-view+json": {
       "model_id": "d3a3ccab26cf4f07a86ca8ba06dc4729",
       "version_major": 2,
       "version_minor": 0
      },
      "text/plain": [
       "  0%|          | 0/63 [00:00<?, ?it/s]"
      ]
     },
     "metadata": {},
     "output_type": "display_data"
    },
    {
     "name": "stdout",
     "output_type": "stream",
     "text": [
      "{'eval_loss': 0.0013685429003089666, 'eval_runtime': 12.7427, 'eval_samples_per_second': 39.238, 'eval_steps_per_second': 4.944, 'epoch': 3.0}\n",
      "{'eval_loss': 0.0013685429003089666, 'eval_runtime': 12.7427, 'eval_samples_per_second': 39.238, 'eval_steps_per_second': 4.944, 'epoch': 3.0}\n"
     ]
    },
    {
     "data": {
      "text/plain": [
       "TrainOutput(global_step=750, training_loss=1.5939265880187352, metrics={'train_runtime': 698.7311, 'train_samples_per_second': 17.174, 'train_steps_per_second': 1.073, 'train_loss': 1.5939265880187352, 'epoch': 3.0})"
      ]
     },
     "execution_count": 8,
     "metadata": {},
     "output_type": "execute_result"
    }
   ],
   "source": [
    "class EvalCallback(TrainerCallback):\n",
    "    def on_train_end(self, args, state, control, **kwargs):\n",
    "        print(\"Final evaluation on validation set.\")\n",
    "        metrics = trainer.evaluate()\n",
    "        print(metrics)\n",
    "\n",
    "training_args = TrainingArguments(\n",
    "    output_dir='./results',\n",
    "    num_train_epochs=3,\n",
    "    per_device_train_batch_size=16,\n",
    "    warmup_steps=500,\n",
    "    weight_decay=0.01,\n",
    "    logging_dir='./logs',\n",
    "    do_train=True,\n",
    "    evaluation_strategy=\"no\",\n",
    "    load_best_model_at_end=True,\n",
    "    logging_steps=10,\n",
    "    save_strategy=\"no\"\n",
    ") \n",
    "\n",
    "trainer = Trainer(\n",
    "    model=model,\n",
    "    args=training_args,\n",
    "    train_dataset=train_dataset,\n",
    "    eval_dataset=val_dataset,\n",
    "    callbacks=[EvalCallback()]\n",
    ")\n",
    "\n",
    "trainer.train()"
   ]
  },
  {
   "cell_type": "code",
   "execution_count": 9,
   "metadata": {},
   "outputs": [
    {
     "data": {
      "application/vnd.jupyter.widget-view+json": {
       "model_id": "2e66bb52284a4e41992ec4a0dab2eda0",
       "version_major": 2,
       "version_minor": 0
      },
      "text/plain": [
       "  0%|          | 0/63 [00:00<?, ?it/s]"
      ]
     },
     "metadata": {},
     "output_type": "display_data"
    },
    {
     "name": "stdout",
     "output_type": "stream",
     "text": [
      "{'eval_loss': 0.0013685429003089666, 'eval_runtime': 3.2448, 'eval_samples_per_second': 154.095, 'eval_steps_per_second': 19.416, 'epoch': 3.0}\n"
     ]
    }
   ],
   "source": [
    "evaluation_result = trainer.evaluate()\n",
    "print(evaluation_result)"
   ]
  },
  {
   "cell_type": "code",
   "execution_count": 10,
   "metadata": {},
   "outputs": [
    {
     "name": "stderr",
     "output_type": "stream",
     "text": [
      "d:\\Anaconda3\\lib\\site-packages\\transformers\\generation\\utils.py:1260: UserWarning: Using the model-agnostic default `max_length` (=20) to control the generation length. We recommend setting `max_new_tokens` to control the maximum length of the generation.\n",
      "  warnings.warn(\n"
     ]
    },
    {
     "name": "stdout",
     "output_type": "stream",
     "text": [
      "Strategy for ValueInvest: 1. Set 22% of assets to fixed-income securities. 2. Set\n"
     ]
    }
   ],
   "source": [
    "def generate_prediction(input_text, model, tokenizer, device):\n",
    "    model.eval()\n",
    "    input_ids = tokenizer.encode(input_text, return_tensors='pt').to(device)\n",
    "    output_ids = model.generate(input_ids)[0]\n",
    "    output_text = tokenizer.decode(output_ids, skip_special_tokens=True)\n",
    "    return output_text\n",
    "\n",
    "sample_input = \"How about we assign 22 percentage to fixed-income securities and 87% to small-cap stocks in ValueInvest?\"\n",
    "print(generate_prediction(sample_input, model, tokenizer, device))"
   ]
  },
  {
   "cell_type": "code",
   "execution_count": 11,
   "metadata": {},
   "outputs": [],
   "source": [
    "def evaluate_model(test_data, model, tokenizer, device, generate_func):\n",
    "    rouge = Rouge()\n",
    "    total_bleu_score = 0\n",
    "    total_rouge_score = {\"rouge-1\": {\"f\": 0, \"p\": 0, \"r\": 0}, \"rouge-2\": {\"f\": 0, \"p\": 0, \"r\": 0}, \"rouge-l\": {\"f\": 0, \"p\": 0, \"r\": 0}}\n",
    "    total_levenshtein = 0\n",
    "    correct = 0\n",
    "    total = 0\n",
    "\n",
    "    for index, row in test_data.iterrows():\n",
    "        input_text = row['input']\n",
    "        expected_output = row['output']\n",
    "        predicted_output = generate_func(input_text, model, tokenizer, device)\n",
    "        \n",
    "        # BLEU Score\n",
    "        reference = [expected_output.lower().split()]\n",
    "        candidate = predicted_output.lower().split()\n",
    "        bleu_score = sentence_bleu(reference, candidate, weights=(0.25, 0.25, 0.25, 0.25))\n",
    "        total_bleu_score += bleu_score\n",
    "        \n",
    "        # ROUGE Score\n",
    "        scores = rouge.get_scores(predicted_output, expected_output)\n",
    "        for key in total_rouge_score:\n",
    "            for metric in total_rouge_score[key]:\n",
    "                total_rouge_score[key][metric] += scores[0][key][metric]\n",
    "        \n",
    "        # Levenshtein Distance\n",
    "        lev_dist = levenshtein_distance(predicted_output.lower(), expected_output.lower())\n",
    "        total_levenshtein += lev_dist\n",
    "        \n",
    "        # Accuracy\n",
    "        if predicted_output.strip().lower() == expected_output.strip().lower():\n",
    "            correct += 1\n",
    "\n",
    "        total += 1\n",
    "\n",
    "    average_bleu = total_bleu_score / total\n",
    "    average_rouge = {key: {k: v / total for k, v in total_rouge_score[key].items()} for key in total_rouge_score}\n",
    "    average_levenshtein = total_levenshtein / total\n",
    "    accuracy = correct / total\n",
    "    \n",
    "    return {\n",
    "        \"average_bleu\": average_bleu,\n",
    "        \"average_rouge\": average_rouge,\n",
    "        \"average_levenshtein\": average_levenshtein,\n",
    "        \"accuracy\": accuracy\n",
    "    }\n",
    "\n",
    "def print_evaluation_results(title, results):\n",
    "    print(title + \":\")\n",
    "    for key, value in results.items():\n",
    "        if isinstance(value, dict):\n",
    "            print(f\"  {key}: {{\")\n",
    "            for subkey, subvalue in value.items():\n",
    "                print(f\"    {subkey}: {subvalue}\")\n",
    "            print(\"  }\")\n",
    "        else:\n",
    "            print(f\"  {key}: {value}\")\n",
    "    print()"
   ]
  },
  {
   "cell_type": "code",
   "execution_count": 12,
   "metadata": {},
   "outputs": [
    {
     "name": "stdout",
     "output_type": "stream",
     "text": [
      "Evaluation Results:\n",
      "  average_bleu: 0.04667631108253263\n",
      "  average_rouge: {\n",
      "    rouge-1: {'f': 0.485942681772611, 'p': 0.9825512820512808, 'r': 0.32335339954163456}\n",
      "    rouge-2: {'f': 0.3889074295274914, 'p': 0.9785271950271963, 'r': 0.24347270615563268}\n",
      "    rouge-l: {'f': 0.485942681772611, 'p': 0.9825512820512808, 'r': 0.32335339954163456}\n",
      "  }\n",
      "  average_levenshtein: 247.66\n",
      "  accuracy: 0.0\n",
      "\n"
     ]
    }
   ],
   "source": [
    "results = evaluate_model(test_data, model, tokenizer, device, generate_prediction)\n",
    "print_evaluation_results(\"Evaluation Results\", results)"
   ]
  }
 ],
 "metadata": {
  "kernelspec": {
   "display_name": "my_env",
   "language": "python",
   "name": "python3"
  },
  "language_info": {
   "codemirror_mode": {
    "name": "ipython",
    "version": 3
   },
   "file_extension": ".py",
   "mimetype": "text/x-python",
   "name": "python",
   "nbconvert_exporter": "python",
   "pygments_lexer": "ipython3",
   "version": "3.9.18"
  }
 },
 "nbformat": 4,
 "nbformat_minor": 2
}
