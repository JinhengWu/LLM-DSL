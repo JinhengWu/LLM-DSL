{
 "cells": [
  {
   "cell_type": "code",
   "execution_count": 1,
   "metadata": {},
   "outputs": [],
   "source": [
    "import random\n",
    "\n",
    "class AssetDatabase:\n",
    "    \"\"\"\n",
    "    A database to store information about various assets, including stocks and bonds.\n",
    "    Each asset is represented by a dictionary containing its market capitalization, code, and type.\n",
    "    \"\"\"\n",
    "    def __init__(self):\n",
    "        # Initialize the database with predefined assets\n",
    "        self.assets = {\n",
    "            \"GZMT\": {\"market_cap\": 21700, \"code\": \"600519\"},\n",
    "            \"NDSD\": {\"market_cap\": 11100, \"code\": \"300750\"}, \n",
    "            \"ZYCX\": {\"market_cap\": 529.54, \"code\": \"603986\"}, \n",
    "            \"ZGGW\": {\"market_cap\": 523.27, \"code\": \"002049\"}, \n",
    "            \"RJGD\": {\"market_cap\": 45.95, \"code\": \"003015\"}, \n",
    "            \"BTSY\": {\"market_cap\": 72.87, \"code\": \"000595\"}, \n",
    "            \"SZZS\": {\"market_cap\": 0, \"type\": \"BONDS\", \"code\": \"510760\"}\n",
    "        }\n",
    "\n",
    "    def get_asset_info(self, asset_name):\n",
    "        \"\"\"\n",
    "        Retrieves the asset information based on its name.\n",
    "        The method dynamically assigns an asset type based on market capitalization.\n",
    "        \"\"\"\n",
    "        asset = self.assets.get(asset_name, None)\n",
    "        if asset:\n",
    "            asset = self._assign_type_based_on_market_cap(asset)\n",
    "        return asset\n",
    "\n",
    "    def _assign_type_based_on_market_cap(self, asset):\n",
    "        \"\"\"\n",
    "        Dynamically assigns an asset type based on its market capitalization.\n",
    "        Special handling is included for bond types.\n",
    "        \"\"\"\n",
    "        # Handle bond type separately\n",
    "        if 'type' in asset and asset['type'] == 'BONDS':\n",
    "            return asset\n",
    "\n",
    "        # Assign stock types based on market capitalization\n",
    "        if asset['market_cap'] > 1000:\n",
    "            asset['type'] = 'LARGE_CAP_STOCKS'\n",
    "        elif 100 <= asset['market_cap'] <= 1000:\n",
    "            asset['type'] = 'MID_CAP_STOCKS'\n",
    "        elif asset['market_cap'] < 100:\n",
    "            asset['type'] = 'SMALL_CAP_STOCKS'\n",
    "        return asset\n",
    "\n",
    "    def get_random_asset_by_type(self, asset_type):\n",
    "        \"\"\"\n",
    "        Selects a random asset from the database based on the specified asset type.\n",
    "        \"\"\"\n",
    "        filtered_assets = [name for name, asset in self.assets.items() if self._assign_type_based_on_market_cap(asset)['type'] == asset_type]\n",
    "        if filtered_assets:\n",
    "            return random.choice(filtered_assets)\n",
    "        return None"
   ]
  },
  {
   "cell_type": "code",
   "execution_count": 2,
   "metadata": {},
   "outputs": [],
   "source": [
    "class ETFPortfolio:\n",
    "    \"\"\"\n",
    "    Represents an ETF (Exchange-Traded Fund) portfolio, managing allocations of various assets.\n",
    "    \"\"\"\n",
    "    def __init__(self, name, asset_db):\n",
    "        \"\"\"\n",
    "        Initializes the ETF portfolio with a name and a reference to an asset database.\n",
    "        The portfolio starts with 100% allocation in cash.\n",
    "        \"\"\"\n",
    "        self.name = name\n",
    "        self.allocations = {\"CASH\": 100}  # Initial allocation is all in cash.\n",
    "        self.asset_db = asset_db          # Reference to the asset database for asset information.\n",
    "\n",
    "    def set_allocation(self, asset_type, percentage):\n",
    "        \"\"\"\n",
    "        Sets the allocation for a given asset type. Randomly selects an asset of the specified type.\n",
    "        \"\"\"\n",
    "        asset_name = self.asset_db.get_random_asset_by_type(asset_type)\n",
    "        if asset_name:\n",
    "            if self._validate_allocation(percentage):\n",
    "                # Allocates the specified percentage to the asset.\n",
    "                self.allocations[asset_name] = self.allocations.get(asset_name, 0) + percentage\n",
    "                self._update_cash_allocation()  # Adjusts the cash allocation accordingly.\n",
    "        else:\n",
    "            print(f\"No asset found for type '{asset_type}'.\")\n",
    "\n",
    "    def update_allocation(self, asset_type, percentage):\n",
    "        \"\"\"\n",
    "        Updates the allocation for an existing asset of the given type.\n",
    "        \"\"\"\n",
    "        existing_assets = [asset for asset in self.allocations if self.asset_db.get_asset_info(asset) and self.asset_db.get_asset_info(asset)['type'] == asset_type]\n",
    "        if existing_assets:\n",
    "            asset_name = existing_assets[0]  # Assumes updating the first asset found of that type.\n",
    "            if self._validate_allocation(percentage, asset_name):\n",
    "                self.allocations[asset_name] = percentage\n",
    "                self._update_cash_allocation()  # Adjusts the cash allocation accordingly.\n",
    "        else:\n",
    "            print(f\"No existing asset found for type '{asset_type}' to update.\")\n",
    "\n",
    "    def _validate_allocation(self, new_percentage, asset_type=None):\n",
    "        \"\"\"\n",
    "        Validates that the total allocation including the new percentage does not exceed 100%.\n",
    "        \"\"\"\n",
    "        total_percentage = sum(self.allocations.values()) - self.allocations.get(asset_type, 0) - self.allocations['CASH'] + new_percentage\n",
    "        if total_percentage > 100:\n",
    "            print(f\"Error in '{self.name}': Total allocation exceeds 100%.\")\n",
    "            return False\n",
    "        return True\n",
    "\n",
    "    def _update_cash_allocation(self):\n",
    "        \"\"\"\n",
    "        Updates the allocation for cash based on the current total allocation of other assets.\n",
    "        \"\"\"\n",
    "        total_invested = sum(self.allocations.values()) - self.allocations['CASH']\n",
    "        self.allocations['CASH'] = max(0, 100 - total_invested)"
   ]
  },
  {
   "cell_type": "code",
   "execution_count": 10,
   "metadata": {},
   "outputs": [],
   "source": [
    "import re\n",
    "from xml.etree.ElementTree import Element, tostring\n",
    "\n",
    "class ASTNode:\n",
    "    def __init__(self, type, value=None):\n",
    "        self.type = type  # Node type, e.g., 'SET', 'UPDATE', 'Portfolio'\n",
    "        self.value = value  # Node value, e.g., 'myPortfolio1', 'LARGE_CAP_STOCKS'\n",
    "        self.children = []  # List of child nodes\n",
    "\n",
    "    def add_child(self, node):\n",
    "        self.children.append(node)\n",
    "\n",
    "    def to_xml(self):\n",
    "        # Recursive function to convert AST to XML\n",
    "        element = Element(self.type)\n",
    "        if self.value:\n",
    "            element.text = str(self.value)\n",
    "        for child in self.children:\n",
    "            element.append(child.to_xml())\n",
    "        return element\n",
    "\n",
    "class ETFDSLInterpreter:\n",
    "    def __init__(self):\n",
    "        self.asset_db = AssetDatabase()\n",
    "        self.etf_portfolios = {}\n",
    "\n",
    "    def interpret(self, command_str):\n",
    "        # Use regular expression to more flexibly parse the command string\n",
    "        pattern = r'^(SET|UPDATE) ETF (\\w+) WITH (\\w+) = (\\d+)%$'\n",
    "        match = re.match(pattern, command_str.strip())\n",
    "        if not match:\n",
    "            raise ValueError(f\"Invalid command format: '{command_str}'.\")\n",
    "\n",
    "        action, portfolio_name, asset_type, percentage_str = match.groups()\n",
    "\n",
    "        try:\n",
    "            percentage = int(percentage_str)\n",
    "        except ValueError:\n",
    "            raise ValueError(f\"Invalid percentage value: '{percentage_str}' in command '{command_str}'\")\n",
    "\n",
    "        # AST generation\n",
    "        root = ASTNode(action)\n",
    "        portfolio_node = ASTNode('Portfolio', portfolio_name)\n",
    "        asset_node = ASTNode('AssetType', asset_type)\n",
    "        percentage_node = ASTNode('Percentage', percentage)\n",
    "\n",
    "        root.add_child(portfolio_node)\n",
    "        root.add_child(asset_node)\n",
    "        root.add_child(percentage_node)\n",
    "\n",
    "        # Convert AST to XML\n",
    "        ast_xml = tostring(root.to_xml())\n",
    "        print(ast_xml.decode())\n",
    "\n",
    "        if portfolio_name not in self.etf_portfolios:\n",
    "            self.etf_portfolios[portfolio_name] = ETFPortfolio(portfolio_name, self.asset_db)\n",
    "\n",
    "        portfolio = self.etf_portfolios[portfolio_name]\n",
    "\n",
    "        if action == 'SET':\n",
    "            portfolio.set_allocation(asset_type, percentage)\n",
    "        elif action == 'UPDATE':\n",
    "            portfolio.update_allocation(asset_type, percentage)\n",
    "\n",
    "    def get_portfolio(self, name):\n",
    "        return self.etf_portfolios.get(name, None)"
   ]
  },
  {
   "cell_type": "code",
   "execution_count": 11,
   "metadata": {},
   "outputs": [],
   "source": [
    "class ETFDSLInterpreter:\n",
    "    \"\"\"\n",
    "    This class interprets and executes commands based on a Domain-Specific Language (DSL) for ETF Portfolio management.\n",
    "    It maintains a collection of ETF portfolios and interacts with an asset database.\n",
    "    \"\"\"\n",
    "\n",
    "    def __init__(self):\n",
    "        \"\"\"\n",
    "        Initializes the interpreter with an asset database and an empty dictionary for storing ETF portfolios.\n",
    "        \"\"\"\n",
    "        self.asset_db = AssetDatabase()  # Instance of the AssetDatabase to access asset information.\n",
    "        self.etf_portfolios = {}         # Dictionary to store named ETF portfolios.\n",
    "\n",
    "    def interpret(self, command_str):\n",
    "        \"\"\"\n",
    "        Interprets a DSL command string to perform ETF portfolio operations like setting or updating allocations.\n",
    "        \"\"\"\n",
    "        tokens = command_str.split()  # Split the command string into tokens.\n",
    "        action = tokens[0]            # The action to perform (SET or UPDATE).\n",
    "        portfolio_name = tokens[2]    # The name of the portfolio.\n",
    "        asset_type = tokens[4]        # The type of asset to allocate.\n",
    "        percentage_str = tokens[6].strip('%')  # The allocation percentage as a string.\n",
    "        percentage = int(percentage_str)       # Convert the percentage to an integer.\n",
    "\n",
    "        # Create a new portfolio if it doesn't exist.\n",
    "        if portfolio_name not in self.etf_portfolios:\n",
    "            self.etf_portfolios[portfolio_name] = ETFPortfolio(portfolio_name, self.asset_db)\n",
    "\n",
    "        # Retrieve the portfolio.\n",
    "        portfolio = self.etf_portfolios[portfolio_name]\n",
    "\n",
    "        # Perform the specified action.\n",
    "        if action == 'SET':\n",
    "            portfolio.set_allocation(asset_type, percentage)  # Set allocation for the asset type.\n",
    "        elif action == 'UPDATE':\n",
    "            portfolio.update_allocation(asset_type, percentage)  # Update allocation for the asset type.\n",
    "\n",
    "    def get_portfolio(self, name):\n",
    "        \"\"\"\n",
    "        Retrieves a portfolio by its name.\n",
    "        \"\"\"\n",
    "        return self.etf_portfolios.get(name, None)  # Return the portfolio if it exists."
   ]
  },
  {
   "cell_type": "code",
   "execution_count": 11,
   "metadata": {},
   "outputs": [],
   "source": [
    "# Create an instance of the ETFDSLInterpreter.\n",
    "interpreter = ETFDSLInterpreter()"
   ]
  },
  {
   "cell_type": "code",
   "execution_count": 12,
   "metadata": {},
   "outputs": [
    {
     "name": "stdout",
     "output_type": "stream",
     "text": [
      "<SET><Portfolio>myPortfolio1</Portfolio><AssetType>LARGE_CAP_STOCKS</AssetType><Percentage>40</Percentage></SET>\n",
      "myPortfolio1: {'CASH': 60, 'NDSD': 40}\n"
     ]
    }
   ],
   "source": [
    "# Allocate 40% to large-cap stocks in myPortfolio1.\n",
    "interpreter.interpret(\"SET ETF myPortfolio1 WITH LARGE_CAP_STOCKS = 40%\")\n",
    "print(\"myPortfolio1:\", interpreter.get_portfolio(\"myPortfolio1\").allocations)"
   ]
  },
  {
   "cell_type": "code",
   "execution_count": 13,
   "metadata": {},
   "outputs": [
    {
     "name": "stdout",
     "output_type": "stream",
     "text": [
      "<SET><Portfolio>myPortfolio1</Portfolio><AssetType>BONDS</AssetType><Percentage>60</Percentage></SET>\n",
      "myPortfolio1: {'CASH': 0, 'NDSD': 40, 'SZZS': 60}\n"
     ]
    }
   ],
   "source": [
    "# Allocate 60% to bonds in myPortfolio1.\n",
    "interpreter.interpret(\"SET ETF myPortfolio1 WITH BONDS = 60%\")\n",
    "print(\"myPortfolio1:\", interpreter.get_portfolio(\"myPortfolio1\").allocations)"
   ]
  },
  {
   "cell_type": "code",
   "execution_count": 14,
   "metadata": {},
   "outputs": [
    {
     "name": "stdout",
     "output_type": "stream",
     "text": [
      "<UPDATE><Portfolio>myPortfolio1</Portfolio><AssetType>LARGE_CAP_STOCKS</AssetType><Percentage>30</Percentage></UPDATE>\n",
      "myPortfolio1: {'CASH': 10, 'NDSD': 30, 'SZZS': 60}\n"
     ]
    }
   ],
   "source": [
    "# Change the allocation of large-cap stocks in myPortfolio1 to 30%.\n",
    "interpreter.interpret(\"UPDATE ETF myPortfolio1 WITH LARGE_CAP_STOCKS = 30%\")\n",
    "print(\"myPortfolio1:\", interpreter.get_portfolio(\"myPortfolio1\").allocations)"
   ]
  },
  {
   "cell_type": "code",
   "execution_count": 15,
   "metadata": {},
   "outputs": [
    {
     "name": "stdout",
     "output_type": "stream",
     "text": [
      "<UPDATE><Portfolio>myPortfolio1</Portfolio><AssetType>BONDS</AssetType><Percentage>80</Percentage></UPDATE>\n",
      "Error in 'myPortfolio1': Total allocation exceeds 100%.\n",
      "myPortfolio1: {'CASH': 10, 'NDSD': 30, 'SZZS': 60}\n"
     ]
    }
   ],
   "source": [
    "# Attempt to change the allocation of bonds in myPortfolio1 to 80%, which should result in an error as it exceeds 100%.\n",
    "interpreter.interpret(\"UPDATE ETF myPortfolio1 WITH BONDS = 80%\")\n",
    "print(\"myPortfolio1:\", interpreter.get_portfolio(\"myPortfolio1\").allocations)"
   ]
  }
 ],
 "metadata": {
  "kernelspec": {
   "display_name": "my_env",
   "language": "python",
   "name": "python3"
  },
  "language_info": {
   "codemirror_mode": {
    "name": "ipython",
    "version": 3
   },
   "file_extension": ".py",
   "mimetype": "text/x-python",
   "name": "python",
   "nbconvert_exporter": "python",
   "pygments_lexer": "ipython3",
   "version": "3.9.18"
  }
 },
 "nbformat": 4,
 "nbformat_minor": 2
}
