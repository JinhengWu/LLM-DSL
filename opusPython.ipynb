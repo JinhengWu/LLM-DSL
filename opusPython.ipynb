{
 "cells": [
  {
   "cell_type": "code",
   "execution_count": 1,
   "metadata": {},
   "outputs": [
    {
     "name": "stderr",
     "output_type": "stream",
     "text": [
      "d:\\Anaconda3\\lib\\site-packages\\transformers\\models\\marian\\tokenization_marian.py:197: UserWarning: Recommended: pip install sacremoses.\n",
      "  warnings.warn(\"Recommended: pip install sacremoses.\")\n",
      "d:\\Anaconda3\\lib\\site-packages\\accelerate\\accelerator.py:432: FutureWarning: Passing the following arguments to `Accelerator` is deprecated and will be removed in version 1.0 of Accelerate: dict_keys(['dispatch_batches']). Please pass an `accelerate.DataLoaderConfiguration` instead: \n",
      "dataloader_config = DataLoaderConfiguration(dispatch_batches=None)\n",
      "  warnings.warn(\n"
     ]
    },
    {
     "data": {
      "application/vnd.jupyter.widget-view+json": {
       "model_id": "a6ae6d5222254bfd90c46d28324f7997",
       "version_major": 2,
       "version_minor": 0
      },
      "text/plain": [
       "  0%|          | 0/250 [00:00<?, ?it/s]"
      ]
     },
     "metadata": {},
     "output_type": "display_data"
    },
    {
     "name": "stdout",
     "output_type": "stream",
     "text": [
      "{'loss': 6.6714, 'learning_rate': 1.0000000000000002e-06, 'epoch': 0.04}\n",
      "{'loss': 6.2053, 'learning_rate': 2.0000000000000003e-06, 'epoch': 0.08}\n",
      "{'loss': 5.2469, 'learning_rate': 3e-06, 'epoch': 0.12}\n",
      "{'loss': 3.9427, 'learning_rate': 4.000000000000001e-06, 'epoch': 0.16}\n",
      "{'loss': 2.9937, 'learning_rate': 5e-06, 'epoch': 0.2}\n",
      "{'loss': 2.3393, 'learning_rate': 6e-06, 'epoch': 0.24}\n",
      "{'loss': 1.834, 'learning_rate': 7.000000000000001e-06, 'epoch': 0.28}\n",
      "{'loss': 1.4438, 'learning_rate': 8.000000000000001e-06, 'epoch': 0.32}\n",
      "{'loss': 0.9799, 'learning_rate': 9e-06, 'epoch': 0.36}\n",
      "{'loss': 0.6628, 'learning_rate': 1e-05, 'epoch': 0.4}\n",
      "{'loss': 0.3652, 'learning_rate': 1.1000000000000001e-05, 'epoch': 0.44}\n",
      "{'loss': 0.2051, 'learning_rate': 1.2e-05, 'epoch': 0.48}\n",
      "{'loss': 0.1105, 'learning_rate': 1.3000000000000001e-05, 'epoch': 0.52}\n",
      "{'loss': 0.0743, 'learning_rate': 1.4000000000000001e-05, 'epoch': 0.56}\n",
      "{'loss': 0.0427, 'learning_rate': 1.5e-05, 'epoch': 0.6}\n",
      "{'loss': 0.0342, 'learning_rate': 1.6000000000000003e-05, 'epoch': 0.64}\n",
      "{'loss': 0.0201, 'learning_rate': 1.7000000000000003e-05, 'epoch': 0.68}\n",
      "{'loss': 0.018, 'learning_rate': 1.8e-05, 'epoch': 0.72}\n",
      "{'loss': 0.0132, 'learning_rate': 1.9e-05, 'epoch': 0.76}\n",
      "{'loss': 0.0118, 'learning_rate': 2e-05, 'epoch': 0.8}\n",
      "{'loss': 0.0094, 'learning_rate': 2.1e-05, 'epoch': 0.84}\n",
      "{'loss': 0.0089, 'learning_rate': 2.2000000000000003e-05, 'epoch': 0.88}\n",
      "{'loss': 0.0077, 'learning_rate': 2.3000000000000003e-05, 'epoch': 0.92}\n",
      "{'loss': 0.007, 'learning_rate': 2.4e-05, 'epoch': 0.96}\n",
      "{'loss': 0.0053, 'learning_rate': 2.5e-05, 'epoch': 1.0}\n"
     ]
    },
    {
     "data": {
      "application/vnd.jupyter.widget-view+json": {
       "model_id": "1a218799b8664d93ac0d465b6f035910",
       "version_major": 2,
       "version_minor": 0
      },
      "text/plain": [
       "  0%|          | 0/63 [00:00<?, ?it/s]"
      ]
     },
     "metadata": {},
     "output_type": "display_data"
    },
    {
     "name": "stdout",
     "output_type": "stream",
     "text": [
      "{'eval_loss': 0.0024727287236601114, 'eval_runtime': 17.0679, 'eval_samples_per_second': 29.295, 'eval_steps_per_second': 3.691, 'epoch': 1.0}\n",
      "{'train_runtime': 444.1903, 'train_samples_per_second': 9.005, 'train_steps_per_second': 0.563, 'train_loss': 1.3301297084838153, 'epoch': 1.0}\n",
      "Final evaluation on validation set.\n"
     ]
    },
    {
     "data": {
      "application/vnd.jupyter.widget-view+json": {
       "model_id": "111a603f489f4ae884e46d2377899fe2",
       "version_major": 2,
       "version_minor": 0
      },
      "text/plain": [
       "  0%|          | 0/63 [00:00<?, ?it/s]"
      ]
     },
     "metadata": {},
     "output_type": "display_data"
    },
    {
     "name": "stdout",
     "output_type": "stream",
     "text": [
      "{'eval_loss': 0.0024727287236601114, 'eval_runtime': 17.0867, 'eval_samples_per_second': 29.262, 'eval_steps_per_second': 3.687, 'epoch': 1.0}\n",
      "{'eval_loss': 0.0024727287236601114, 'eval_runtime': 17.0867, 'eval_samples_per_second': 29.262, 'eval_steps_per_second': 3.687, 'epoch': 1.0}\n"
     ]
    },
    {
     "data": {
      "text/plain": [
       "TrainOutput(global_step=250, training_loss=1.3301297084838153, metrics={'train_runtime': 444.1903, 'train_samples_per_second': 9.005, 'train_steps_per_second': 0.563, 'train_loss': 1.3301297084838153, 'epoch': 1.0})"
      ]
     },
     "execution_count": 1,
     "metadata": {},
     "output_type": "execute_result"
    }
   ],
   "source": [
    "from transformers import MarianMTModel, MarianTokenizer, Trainer, TrainingArguments, TrainerCallback\n",
    "from torch.utils.data import Dataset\n",
    "from sklearn.model_selection import train_test_split\n",
    "import pandas as pd\n",
    "import torch\n",
    "\n",
    "# 加载数据\n",
    "train_file_path = 'D:\\\\XJTLU\\\\YEAR4\\\\FYP\\\\TrainPython.csv'\n",
    "data = pd.read_csv(train_file_path)\n",
    "\n",
    "train_val_data, test_data = train_test_split(data, test_size=0.1, random_state=42)\n",
    "train_data, val_data = train_test_split(train_val_data, test_size=0.1111, random_state=42)\n",
    "\n",
    "device = torch.device(\"cuda\" if torch.cuda.is_available() else \"cpu\")\n",
    "\n",
    "class NLtoPythonDataSet(Dataset):\n",
    "    def __init__(self, tokenizer, data, max_length=128):\n",
    "        self.tokenizer = tokenizer\n",
    "        self.data = data\n",
    "        self.max_length = max_length\n",
    "\n",
    "    def __len__(self):\n",
    "        return len(self.data)\n",
    "\n",
    "    def __getitem__(self, idx):\n",
    "        item = self.data.iloc[idx]\n",
    "        input_text = item['input']\n",
    "        target_text = item['output']\n",
    "        \n",
    "        input_encoding = self.tokenizer(input_text, max_length=self.max_length, padding='max_length', truncation=True, return_tensors='pt')\n",
    "        target_encoding = self.tokenizer(target_text, max_length=self.max_length, padding='max_length', truncation=True, return_tensors='pt')\n",
    "        \n",
    "        inputs = {\n",
    "            'input_ids': input_encoding['input_ids'].flatten(),\n",
    "            'attention_mask': input_encoding['attention_mask'].flatten(),\n",
    "            'labels': target_encoding['input_ids'].flatten()\n",
    "        }\n",
    "        \n",
    "        return inputs\n",
    "\n",
    "tokenizer = MarianTokenizer.from_pretrained('D:\\\\XJTLU\\\\YEAR4\\\\FYP\\\\opus-mt-en-de')\n",
    "model = MarianMTModel.from_pretrained('D:\\\\XJTLU\\\\YEAR4\\\\FYP\\\\opus-mt-en-de')\n",
    "\n",
    "train_dataset = NLtoPythonDataSet(tokenizer, train_data)\n",
    "val_dataset = NLtoPythonDataSet(tokenizer, val_data)\n",
    "\n",
    "class EvalCallback(TrainerCallback):\n",
    "    def on_train_end(self, args, state, control, **kwargs):\n",
    "        print(\"Final evaluation on validation set.\")\n",
    "        metrics = trainer.evaluate()\n",
    "        print(metrics)\n",
    "\n",
    "training_args = TrainingArguments(\n",
    "    output_dir='./results',\n",
    "    num_train_epochs=1,\n",
    "    per_device_train_batch_size=16,\n",
    "    warmup_steps=500,\n",
    "    weight_decay=0.01,\n",
    "    logging_dir='./logs',\n",
    "    do_train=True,\n",
    "    evaluation_strategy=\"epoch\",\n",
    "    logging_steps=10,\n",
    "    save_strategy=\"epoch\"\n",
    ")\n",
    "\n",
    "trainer = Trainer(\n",
    "    model=model,\n",
    "    args=training_args,\n",
    "    train_dataset=train_dataset,\n",
    "    eval_dataset=val_dataset,\n",
    "    callbacks=[EvalCallback()]\n",
    ")\n",
    "\n",
    "trainer.train()\n"
   ]
  },
  {
   "cell_type": "code",
   "execution_count": 9,
   "metadata": {},
   "outputs": [
    {
     "data": {
      "application/vnd.jupyter.widget-view+json": {
       "model_id": "2e66bb52284a4e41992ec4a0dab2eda0",
       "version_major": 2,
       "version_minor": 0
      },
      "text/plain": [
       "  0%|          | 0/63 [00:00<?, ?it/s]"
      ]
     },
     "metadata": {},
     "output_type": "display_data"
    },
    {
     "name": "stdout",
     "output_type": "stream",
     "text": [
      "{'eval_loss': 0.0013685429003089666, 'eval_runtime': 3.2448, 'eval_samples_per_second': 154.095, 'eval_steps_per_second': 19.416, 'epoch': 3.0}\n"
     ]
    }
   ],
   "source": [
    "evaluation_result = trainer.evaluate()\n",
    "print(evaluation_result)"
   ]
  },
  {
   "cell_type": "code",
   "execution_count": 2,
   "metadata": {},
   "outputs": [
    {
     "name": "stdout",
     "output_type": "stream",
     "text": [
      "if 'BONDS' not in portfolio: portfolio['BONDS'] = {} portfolio['BONDS'] = '22%'\n"
     ]
    }
   ],
   "source": [
    "def generate_prediction(input_text, model, tokenizer, device):\n",
    "    model.eval()\n",
    "    input_ids = tokenizer.encode(input_text, return_tensors='pt').to(device)\n",
    "    output_ids = model.generate(input_ids)[0]\n",
    "    output_text = tokenizer.decode(output_ids, skip_special_tokens=True)\n",
    "    return output_text\n",
    "\n",
    "sample_input = \"How about we assign 22 percentage to fixed-income securities?\"\n",
    "print(generate_prediction(sample_input, model, tokenizer, device))"
   ]
  },
  {
   "cell_type": "code",
   "execution_count": 3,
   "metadata": {},
   "outputs": [],
   "source": [
    "from nltk.translate.bleu_score import sentence_bleu\n",
    "from rouge import Rouge\n",
    "from Levenshtein import distance as levenshtein_distance\n",
    "\n",
    "def evaluate_model(test_data, model, tokenizer, device, generate_func):\n",
    "    rouge = Rouge()\n",
    "    total_bleu_score = 0\n",
    "    total_rouge_score = {\"rouge-1\": {\"f\": 0, \"p\": 0, \"r\": 0}, \"rouge-2\": {\"f\": 0, \"p\": 0, \"r\": 0}, \"rouge-l\": {\"f\": 0, \"p\": 0, \"r\": 0}}\n",
    "    total_levenshtein = 0\n",
    "    correct = 0\n",
    "    total = 0\n",
    "\n",
    "    for index, row in test_data.iterrows():\n",
    "        input_text = row['input']\n",
    "        expected_output = row['output']\n",
    "        predicted_output = generate_func(input_text, model, tokenizer, device)\n",
    "        \n",
    "        # BLEU Score\n",
    "        reference = [expected_output.lower().split()]\n",
    "        candidate = predicted_output.lower().split()\n",
    "        bleu_score = sentence_bleu(reference, candidate, weights=(0.25, 0.25, 0.25, 0.25))\n",
    "        total_bleu_score += bleu_score\n",
    "        \n",
    "        # ROUGE Score\n",
    "        scores = rouge.get_scores(predicted_output, expected_output)\n",
    "        for key in total_rouge_score:\n",
    "            for metric in total_rouge_score[key]:\n",
    "                total_rouge_score[key][metric] += scores[0][key][metric]\n",
    "        \n",
    "        # Levenshtein Distance\n",
    "        lev_dist = levenshtein_distance(predicted_output.lower(), expected_output.lower())\n",
    "        total_levenshtein += lev_dist\n",
    "        \n",
    "        # Accuracy\n",
    "        if predicted_output.strip().lower() == expected_output.strip().lower():\n",
    "            correct += 1\n",
    "\n",
    "        total += 1\n",
    "\n",
    "    average_bleu = total_bleu_score / total\n",
    "    average_rouge = {key: {k: v / total for k, v in total_rouge_score[key].items()} for key in total_rouge_score}\n",
    "    average_levenshtein = total_levenshtein / total\n",
    "    accuracy = correct / total\n",
    "    \n",
    "    return {\n",
    "        \"average_bleu\": average_bleu,\n",
    "        \"average_rouge\": average_rouge,\n",
    "        \"average_levenshtein\": average_levenshtein,\n",
    "        \"accuracy\": accuracy\n",
    "    }\n",
    "\n",
    "def print_evaluation_results(title, results):\n",
    "    print(title + \":\")\n",
    "    for key, value in results.items():\n",
    "        if isinstance(value, dict):\n",
    "            print(f\"  {key}: {{\")\n",
    "            for subkey, subvalue in value.items():\n",
    "                print(f\"    {subkey}: {subvalue}\")\n",
    "            print(\"  }\")\n",
    "        else:\n",
    "            print(f\"  {key}: {value}\")\n",
    "    print()"
   ]
  },
  {
   "cell_type": "code",
   "execution_count": 4,
   "metadata": {},
   "outputs": [
    {
     "name": "stdout",
     "output_type": "stream",
     "text": [
      "Evaluation Results:\n",
      "  average_bleu: 0.9855557236080865\n",
      "  average_rouge: {\n",
      "    rouge-1: {'f': 0.9894372933202661, 'p': 0.9914559884559888, 'r': 0.9875818181818186}\n",
      "    rouge-2: {'f': 0.9884124129375189, 'p': 0.9905246753246758, 'r': 0.9864727272727277}\n",
      "    rouge-l: {'f': 0.9894372933202661, 'p': 0.9914559884559888, 'r': 0.9875818181818186}\n",
      "  }\n",
      "  average_levenshtein: 7.52\n",
      "  accuracy: 0.0\n",
      "\n"
     ]
    }
   ],
   "source": [
    "results = evaluate_model(test_data, model, tokenizer, device, generate_prediction)\n",
    "print_evaluation_results(\"Evaluation Results\", results)"
   ]
  }
 ],
 "metadata": {
  "kernelspec": {
   "display_name": "my_env",
   "language": "python",
   "name": "python3"
  },
  "language_info": {
   "codemirror_mode": {
    "name": "ipython",
    "version": 3
   },
   "file_extension": ".py",
   "mimetype": "text/x-python",
   "name": "python",
   "nbconvert_exporter": "python",
   "pygments_lexer": "ipython3",
   "version": "3.9.18"
  }
 },
 "nbformat": 4,
 "nbformat_minor": 2
}
